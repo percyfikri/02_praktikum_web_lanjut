{
  "nbformat": 4,
  "nbformat_minor": 0,
  "metadata": {
    "colab": {
      "provenance": [],
      "authorship_tag": "ABX9TyO4/Kgcxya35Bh74FoDt5Jz",
      "include_colab_link": true
    },
    "kernelspec": {
      "name": "python3",
      "display_name": "Python 3"
    },
    "language_info": {
      "name": "python"
    }
  },
  "cells": [
    {
      "cell_type": "markdown",
      "metadata": {
        "id": "view-in-github",
        "colab_type": "text"
      },
      "source": [
        "<a href=\"https://colab.research.google.com/github/percyfikri/02_praktikum_web_lanjut/blob/master/Meet_1.ipynb\" target=\"_parent\"><img src=\"https://colab.research.google.com/assets/colab-badge.svg\" alt=\"Open In Colab\"/></a>"
      ]
    },
    {
      "cell_type": "markdown",
      "source": [
        "##**Langkah 1**\n",
        "Pada code awal, beberapa library yang akan digunakan adalah: numpy, pandas, cv2, skimage, PIL, matplotlib"
      ],
      "metadata": {
        "id": "NfAXpMbTH9Aw"
      }
    },
    {
      "cell_type": "code",
      "execution_count": null,
      "metadata": {
        "id": "RH6VJ7KFHw6b"
      },
      "outputs": [],
      "source": []
    }
  ]
}